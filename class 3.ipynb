{
 "cells": [
  {
   "cell_type": "markdown",
   "id": "ba1c0793",
   "metadata": {},
   "source": [
    "read a string s1 from user where length should be 10,\n",
    "    1) if the length is not 10 ,system sends an error message that \"length of string should be 10\"\n",
    "       and prompts to enter the message again.\n",
    "    2) count and print the number of vowels in entered string.\n",
    "    3) count the no of non vowel alphabets in the string.\n",
    "    4) replace the letters of the non vowel alphabets into a vowel alphabet while the count of each\n",
    "       vowel in the entered strig does not exceed 2.\n",
    "    5) read another string s2 from user and ensure that it has only vowels.\n",
    "    6) find the hamming distance between s1 and s2. (no of mis matches between the two strings)"
   ]
  },
  {
   "cell_type": "code",
   "execution_count": 136,
   "id": "de4a34cd",
   "metadata": {},
   "outputs": [
    {
     "name": "stdout",
     "output_type": "stream",
     "text": [
      "input string : aaaaaaaaaa\n"
     ]
    }
   ],
   "source": [
    "#1\n",
    "s1 = str(input('input string : '))\n",
    "while len(s1)!=10 :\n",
    "    print(\"Length of string should be 10\")\n",
    "    s1 = str(input('input string'))"
   ]
  },
  {
   "cell_type": "code",
   "execution_count": 137,
   "id": "65e9f453",
   "metadata": {},
   "outputs": [
    {
     "name": "stdout",
     "output_type": "stream",
     "text": [
      "vowels 10\n",
      "consonet 0\n",
      "10 0 0 0 0\n",
      "eeiioouuaa\n"
     ]
    }
   ],
   "source": [
    "#2,3,4\n",
    "ac= s1.count('a')\n",
    "ec=s1.count('e')\n",
    "ic=s1.count('i')\n",
    "oc=s1.count('o')\n",
    "uc=s1.count('u')\n",
    "x=ac+ec+ic+oc+uc\n",
    "print(\"vowels\",x)\n",
    "print(\"consonet\",10-x)\n",
    "print(ac,ec,ic,oc,uc,end='\\n')\n",
    "\n",
    "for i in s1:\n",
    "    if i not in \"aeiou\" or ac>2 or ec>2 or ic>2 or oc>2 or uc>2:\n",
    "        if ac < 2:\n",
    "            s1=s1.replace(i,'a',1)\n",
    "            ac=ac+1\n",
    "        elif ec < 2:\n",
    "            s1=s1.replace(i,'e',1)\n",
    "            ec=ec+1\n",
    "        elif ic < 2:\n",
    "            s1=s1.replace(i,'i',1)\n",
    "            ic=ic+1\n",
    "        elif oc < 2:\n",
    "            s1=s1.replace(i,'o',1)\n",
    "            oc=oc+1\n",
    "        elif uc < 2 :\n",
    "            s1=s1.replace(i,'u',1)\n",
    "            uc=uc+1\n",
    "    \n",
    "print(s1)\n",
    "  \n"
   ]
  },
  {
   "cell_type": "code",
   "execution_count": 131,
   "id": "9bf972a6",
   "metadata": {},
   "outputs": [],
   "source": []
  }
 ],
 "metadata": {
  "kernelspec": {
   "display_name": "Python 3 (ipykernel)",
   "language": "python",
   "name": "python3"
  },
  "language_info": {
   "codemirror_mode": {
    "name": "ipython",
    "version": 3
   },
   "file_extension": ".py",
   "mimetype": "text/x-python",
   "name": "python",
   "nbconvert_exporter": "python",
   "pygments_lexer": "ipython3",
   "version": "3.9.12"
  }
 },
 "nbformat": 4,
 "nbformat_minor": 5
}
